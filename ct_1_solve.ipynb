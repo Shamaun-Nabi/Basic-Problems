{
  "nbformat": 4,
  "nbformat_minor": 0,
  "metadata": {
    "colab": {
      "name": "ct_1_solve.ipynb",
      "provenance": [],
      "collapsed_sections": [],
      "authorship_tag": "ABX9TyPVGJ0PslZ7haS+qddMwoMA",
      "include_colab_link": true
    },
    "kernelspec": {
      "name": "python3",
      "display_name": "Python 3"
    }
  },
  "cells": [
    {
      "cell_type": "markdown",
      "metadata": {
        "id": "view-in-github",
        "colab_type": "text"
      },
      "source": [
        "<a href=\"https://colab.research.google.com/github/ShahriarShafin/Basic-Problems-/blob/master/ct_1_solve.ipynb\" target=\"_parent\"><img src=\"https://colab.research.google.com/assets/colab-badge.svg\" alt=\"Open In Colab\"/></a>"
      ]
    },
    {
      "cell_type": "markdown",
      "metadata": {
        "id": "4HdRMfFMJfVS"
      },
      "source": [
        "1. What is the output of the following code<br>\r\n",
        "` a = 100 - 6 % 4 /5 -50`"
      ]
    },
    {
      "cell_type": "code",
      "metadata": {
        "id": "bGkeb58T7Z8a"
      },
      "source": [
        "# ans-1\r\n",
        "a = 100 - 6 % 4 /5 -50\r\n",
        "\r\n",
        "print(a)"
      ],
      "execution_count": null,
      "outputs": []
    },
    {
      "cell_type": "markdown",
      "metadata": {
        "id": "jEbRTdQWJ2uM"
      },
      "source": [
        "2. Suppose we have two lists –<br>\r\n",
        "`list1 = [“cat”,105,”bat”,256,512,1024]`<br>\r\n",
        "`list2 = [“coffee”,”rain”]`<br>\r\n",
        "We want to do the following-\r\n"
      ]
    },
    {
      "cell_type": "markdown",
      "metadata": {
        "id": "PFgPZid3LHyG"
      },
      "source": [
        "a) Write one line code to print the 1st to 3rd element ([105,”bat”,\r\n",
        "256]) from the list1.<br>"
      ]
    },
    {
      "cell_type": "code",
      "metadata": {
        "colab": {
          "base_uri": "https://localhost:8080/"
        },
        "id": "K533kHnLLoLk",
        "outputId": "d62cd6c4-d77e-460a-bd05-2db5e27e6861"
      },
      "source": [
        "# ans 2-(a)\r\n",
        "list1 = [\"cat\",105,\"bat\",256,512,1024]\r\n",
        "list2 = [\"offee\",\"rain\"]\r\n",
        "print(list1[1:4])"
      ],
      "execution_count": null,
      "outputs": [
        {
          "output_type": "stream",
          "text": [
            "[105, 'bat', 256]\n"
          ],
          "name": "stdout"
        }
      ]
    },
    {
      "cell_type": "markdown",
      "metadata": {
        "id": "szY_lt8yMFjs"
      },
      "source": [
        "b) Write one line code to print the 3rd to the last element([256,512, 1024]) from list1.<br>Don’t use fixed index to denote the lastelement here.<br>"
      ]
    },
    {
      "cell_type": "code",
      "metadata": {
        "id": "XaWvL0ZpMPM1"
      },
      "source": [
        "# ans 2-(b)\r\n",
        "list1 = [\"cat\",105,\"bat\",256,512,1024]\r\n",
        "list2 = [\"offee\",\"rain\"]\r\n",
        "print(list1[3:])"
      ],
      "execution_count": null,
      "outputs": []
    },
    {
      "cell_type": "markdown",
      "metadata": {
        "id": "EMoaTLEcMfri"
      },
      "source": [
        "c) Write one line code to print the 0th to the 3rd element ( [“cat”,\r\n",
        "105, “bat”, 256]) from list1.<br> Don’t use fixed index to denote the 0th\r\n",
        "element here.<br>"
      ]
    },
    {
      "cell_type": "code",
      "metadata": {
        "id": "_wCN1y1vMh1C"
      },
      "source": [
        "# ans 2-(c)\r\n",
        "list1 = [\"cat\",105,\"bat\",256,512,1024]\r\n",
        "list2 = [\"offee\",\"rain\"]\r\n",
        "print(list1[:4])"
      ],
      "execution_count": null,
      "outputs": []
    },
    {
      "cell_type": "markdown",
      "metadata": {
        "id": "IszJS94vMyIy"
      },
      "source": [
        "d) Write one line code to concatenate list1 and list2 to create list3."
      ]
    },
    {
      "cell_type": "code",
      "metadata": {
        "id": "ghK_N4lC7xu9"
      },
      "source": [
        "# ans 2-(b)\r\n",
        "list1 = [\"cat\",105,\"bat\",256,512,1024]\r\n",
        "list2 = [\"offee\",\"rain\"]\r\n",
        "list3 = list1 + list2\r\n",
        "print(list3)\r\n"
      ],
      "execution_count": null,
      "outputs": []
    },
    {
      "cell_type": "markdown",
      "metadata": {
        "id": "KiSZ4wjYNs9k"
      },
      "source": [
        "3. Write two line codes where<br>\r\n",
        "a) In the first line you will take an input from user<br>\r\n",
        "b) In the second line you will check if the number is non-negative (0\r\n",
        "or positive) or negative."
      ]
    },
    {
      "cell_type": "code",
      "metadata": {
        "id": "9I8KYlHV_bLv"
      },
      "source": [
        "# ans 3-(a)\r\n",
        "val = input(\"Enter your value: \") \r\n",
        "print(type(val))"
      ],
      "execution_count": null,
      "outputs": []
    },
    {
      "cell_type": "code",
      "metadata": {
        "id": "EXZBCHGw_v9a",
        "colab": {
          "base_uri": "https://localhost:8080/"
        },
        "outputId": "54ab01cd-1fc2-4183-87fa-26e17a496587"
      },
      "source": [
        "# ans 3-(b)\r\n",
        "num = int(input(\"Enter a Number: \"))\r\n",
        "print(str(num) + \" is negative number\") if num < 0 else print(str(num) + \" is non-negative number\")\r\n"
      ],
      "execution_count": 1,
      "outputs": [
        {
          "output_type": "stream",
          "text": [
            "Enter a Number: 0\n",
            "0 is non-negative number\n"
          ],
          "name": "stdout"
        }
      ]
    }
  ]
}