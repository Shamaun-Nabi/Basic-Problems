{
  "nbformat": 4,
  "nbformat_minor": 0,
  "metadata": {
    "colab": {
      "name": "Conditional Practice problem.ipynb",
      "provenance": []
    },
    "kernelspec": {
      "name": "python_defaultSpec_1610776707683",
      "display_name": "Python 3.9.1 64-bit"
    }
  },
  "cells": [
    {
      "cell_type": "code",
      "metadata": {
        "colab": {
          "base_uri": "https://localhost:8080/"
        },
        "id": "E1nQpDH8wlkd",
        "outputId": "94b63e4b-f480-4971-f55c-8fc187018ae3"
      },
      "source": [
        "# Conditional Practice Problems\r\n",
        "#1\r\n",
        "numberOne=int(input(\"Enter Your First Number \\n\"))\r\n",
        "numberTwo=int(input(\"Enter Your Second Number \\n\"))\r\n",
        "if numberOne==numberTwo:\r\n",
        "    print(\"Number1 and Number2 are Equal\")\r\n",
        "else:\r\n",
        "    print(\"Number1 and Number2 are not Equal\")"
      ],
      "execution_count": null,
      "outputs": [
        {
          "output_type": "stream",
          "text": [
            "Enter Your First Number \n",
            "15\n",
            "Enter Your Second Number \n",
            "15\n",
            "Number1 and Number2 are Equal\n"
          ],
          "name": "stdout"
        }
      ]
    },
    {
      "cell_type": "code",
      "metadata": {
        "colab": {
          "base_uri": "https://localhost:8080/"
        },
        "id": "UIGTYpftw690",
        "outputId": "fbddc839-58a9-4811-dfd0-0025177dbef6"
      },
      "source": [
        "#2\r\n",
        "userNumber=int(input(\"Enter Your Number \\n\"))\r\n",
        "if userNumber%2==0:\r\n",
        "  print(f\"{userNumber} is a Even Number\")\r\n",
        "else:\r\n",
        "   print(f\"{userNumber} is a Odd Number\")\r\n",
        "  "
      ],
      "execution_count": null,
      "outputs": [
        {
          "output_type": "stream",
          "text": [
            "Enter Your Number \n",
            "30\n",
            "30 is a Even Number\n"
          ],
          "name": "stdout"
        }
      ]
    },
    {
      "cell_type": "code",
      "metadata": {
        "colab": {
          "base_uri": "https://localhost:8080/"
        },
        "id": "hOHFf6KmxwxZ",
        "outputId": "6e6da427-6d72-4f7e-dd3a-aa7828cfe31c"
      },
      "source": [
        "#3\r\n",
        "userNumber=int(input(\"Enter Your Number \\n\"))\r\n",
        "if userNumber>0:\r\n",
        "  print(f\"{userNumber} is a Positive Number \")\r\n",
        "else:\r\n",
        "  print(f\"{userNumber} is a Negative Number \")"
      ],
      "execution_count": null,
      "outputs": [
        {
          "output_type": "stream",
          "text": [
            "Enter Your Number \n",
            "-100\n",
            "-100 is a Negative Number \n"
          ],
          "name": "stdout"
        }
      ]
    },
    {
      "cell_type": "code",
      "metadata": {
        "colab": {
          "base_uri": "https://localhost:8080/"
        },
        "id": "wiPLhBVEy8Xy",
        "outputId": "b0222753-9981-47cc-f33c-d5b0dbc87c76"
      },
      "source": [
        "#4\r\n",
        "userYear=int(input(\"Enter The Year \"))\r\n",
        "if userYear%400==0:\r\n",
        "  print(f\"{userYear} is Leap Year\")\r\n",
        "elif userYear%4==0:\r\n",
        "  print(f\"{userYear} is Leap Year\")\r\n",
        "elif userYear%100==0:\r\n",
        "   print(f\"{userYear} is Not Leap Year\")\r\n",
        "else:\r\n",
        "   print(f\"{userYear} is Not Leap Year\")\r\n",
        "\r\n"
      ],
      "execution_count": null,
      "outputs": [
        {
          "output_type": "stream",
          "text": [
            "Enter The Year 1993\n",
            "1993 is Not Leap Year\n"
          ],
          "name": "stdout"
        }
      ]
    },
    {
      "cell_type": "code",
      "metadata": {
        "colab": {
          "base_uri": "https://localhost:8080/"
        },
        "id": "92gYyWMb1-bH",
        "outputId": "7c28d6c6-e69f-41ff-f2ab-6577279f2e78"
      },
      "source": [
        "#5\r\n",
        "\r\n",
        "userAge=int(input(\"Enter Candidate Age \\n\"))\r\n",
        "if userAge>=18:\r\n",
        "  print(\"Congratulation! You are eligible for casting your vote.\")\r\n",
        "else:\r\n",
        "  print(\"Sorry! You are not eligible for casting your vote.\")"
      ],
      "execution_count": null,
      "outputs": [
        {
          "output_type": "stream",
          "text": [
            "Enter Candidate Age \n",
            "18\n",
            "Congratulation! You are eligible for casting your vote.\n"
          ],
          "name": "stdout"
        }
      ]
    },
    {
      "cell_type": "code",
      "metadata": {
        "colab": {
          "base_uri": "https://localhost:8080/"
        },
        "id": "J-kBvPyL2sFo",
        "outputId": "9eaef906-4a4f-440e-eeb4-e07f1a6b1269"
      },
      "source": [
        "#6\r\n",
        "userNumber=int(input(\"Enter Your Number \\n\"))\r\n",
        "if userNumber==0:\r\n",
        "  print(\"0\")\r\n",
        "elif userNumber>0:\r\n",
        "  print(\"1\")\r\n",
        "else:\r\n",
        "  print(\"-1\")"
      ],
      "execution_count": null,
      "outputs": [
        {
          "output_type": "stream",
          "text": [
            "Enter Your Number \n",
            "5\n",
            "1\n"
          ],
          "name": "stdout"
        }
      ]
    },
    {
      "cell_type": "code",
      "metadata": {
        "colab": {
          "base_uri": "https://localhost:8080/"
        },
        "id": "5TX58YcQ30Xe",
        "outputId": "18a3f55a-2044-43c7-c23e-6e4a60d26c73"
      },
      "source": [
        "#7\r\n",
        "userAge=int(input(\"Enter Age \\n\"))\r\n",
        "if userAge>=0 and userAge<=10:\r\n",
        "  print(\"Child\")\r\n",
        "elif userAge>=11 and userAge<=20:\r\n",
        "  print(\"Teenage\")\r\n",
        "elif userAge>=21 and userAge<=50:\r\n",
        "  print(\"Adult\")\r\n",
        "else:\r\n",
        "  print(\"old\")"
      ],
      "execution_count": null,
      "outputs": [
        {
          "output_type": "stream",
          "text": [
            "Enter Age \n",
            "35\n",
            "Adult\n"
          ],
          "name": "stdout"
        }
      ]
    },
    {
      "cell_type": "code",
      "metadata": {
        "id": "l6x0V68D-SbI",
        "colab": {
          "base_uri": "https://localhost:8080/"
        },
        "outputId": "e9f6af04-b073-44e5-b991-c4ef4dae05ce"
      },
      "source": [
        "#-------Later------------\r\n",
        "userNumber1=int(input(\"Enter Your Number \\n\"))\r\n",
        "userNumber2=int(input(\"Enter Your Number \\n\"))\r\n",
        "userNumber3=int(input(\"Enter Your Number \\n\"))\r\n",
        "\r\n",
        "if userNumber1>userNumber2 and userNumber1>userNumber3:\r\n",
        "  print(userNumber1)\r\n",
        "elif userNumber2>userNumber1 and userNumber2>userNumber3:\r\n",
        "  print(userNumber2)\r\n",
        "elif userNumber3>userNumber1 and userNumber3>userNumber2:\r\n",
        "  print(userNumber3)\r\n",
        "else:\r\n",
        "  print(\"Equal\")\r\n"
      ],
      "execution_count": 3,
      "outputs": [
        {
          "output_type": "stream",
          "text": [
            "Enter Your Number \n",
            "100\n",
            "Enter Your Number \n",
            "50\n",
            "Enter Your Number \n",
            "20\n",
            "100\n"
          ],
          "name": "stdout"
        }
      ]
    },
    {
      "cell_type": "code",
      "metadata": {
        "colab": {
          "base_uri": "https://localhost:8080/"
        },
        "id": "VG3CNgm25ey8",
        "outputId": "42145796-bfa0-4d7b-b1b3-101a0e38e9f2"
      },
      "source": [
        "#9\r\n",
        "x=int(input('Enter the values for X \\n'))\r\n",
        " \r\n",
        "y=int(input('Enter the values for Y\\n'))\r\n",
        "\r\n",
        "if x>0 and y>0:\r\n",
        "  print(f\"The coordinate point {x},{y} lies in the First quadrant.\")\r\n",
        "elif x<0 and y>0:\r\n",
        "  print(f\"The coordinate point {x},{y} lies in the Second quadrant.\")\r\n",
        "elif x<0 and y<0:\r\n",
        "  print(f\"The coordinate point {x},{y} lies in the Third quadrant.\")\r\n",
        "elif x > 0 and y < 0:\r\n",
        "  print(f\"The coordinate point {x},{y} lies in the fourth quadrant.\")\r\n",
        "else:\r\n",
        "  print(f\"The coordinate point {x},{y} lies in the Origin.\")"
      ],
      "execution_count": null,
      "outputs": [
        {
          "output_type": "stream",
          "text": [
            "Enter the values for X \n",
            "-11\n",
            "Enter the values for Y\n",
            "20\n",
            "The coordinate point -11,20 lies in the Second tquadrant.\n"
          ],
          "name": "stdout"
        }
      ]
    },
    {
      "cell_type": "code",
      "metadata": {
        "colab": {
          "base_uri": "https://localhost:8080/"
        },
        "id": "W3kXS4cO9CDv",
        "outputId": "516b6557-1711-4086-b161-e32f97ef5f98"
      },
      "source": [
        "#10\r\n",
        "phyMarks=int(input(\"Enter Physics Marks \\n\"))\r\n",
        "chemMarks=int(input(\"Enter Chemistry Marks \\n\"))\r\n",
        "mathMarks=int(input(\"Enter Math Marks \\n\"))\r\n",
        "if phyMarks>=55 and chemMarks>50 and mathMarks>=65:\r\n",
        "  phyAndmath=mathMarks+phyMarks\r\n",
        "  totalMarks=mathMarks+phyMarks+chemMarks\r\n",
        "\r\n",
        "  print(\"Total Marks Is \\n\",totalMarks)\r\n",
        "  print(\"Physics And Math \\n\",phyAndmath)\r\n",
        "\r\n",
        "  if totalMarks>=190 or phyAndmath>=140:\r\n",
        "\r\n",
        "    print(\"The candidate is eligible for admission.\")\r\n",
        "  else:\r\n",
        "    print(\"The candidate is Not eligible for admission.\")\r\n",
        "else:\r\n",
        "  print(\"The candidate is Not eligible for admission.\")"
      ],
      "execution_count": null,
      "outputs": [
        {
          "output_type": "stream",
          "text": [
            "Enter Physics Marks \n",
            "65\n",
            "Enter Chemistry Marks \n",
            "55\n",
            "Enter Math Marks \n",
            "72\n",
            "Total Marks Is \n",
            " 192\n",
            "Physics And Chem \n",
            " 137\n",
            "The candidate is eligible for admission.\n"
          ],
          "name": "stdout"
        }
      ]
    },
    {
      "cell_type": "code",
      "metadata": {
        "colab": {
          "base_uri": "https://localhost:8080/"
        },
        "id": "OAQADd7WYt0v",
        "outputId": "1c10cadb-aabe-42a5-bf12-2c9ebd6130d3"
      },
      "source": [
        "# 11\n",
        "\n",
        "userInput=int(input(\"Enter User Number \\\"1 to 12\\\" \\n\"))\r\n",
        "if userInput==1:\r\n",
        "  print(f\"Month have 31 days\")\r\n",
        "elif userInput==2:\r\n",
        "  print(\"Month have  days 28 days\")\r\n",
        "elif userInput==3:\r\n",
        "  print(\"Month have  days 31 days\")\r\n",
        "elif userInput==4:\r\n",
        "  print(\"Month have  days 30 days\")\r\n",
        "elif userInput==5:\r\n",
        "  print(\"Month have  days 31 days\")\r\n",
        "elif userInput==6:\r\n",
        "  print(\"Month have  days 30 days\")\r\n",
        "elif userInput==7:\r\n",
        "  print(\"Month have  days 31 days\")\r\n",
        "elif userInput==8:\r\n",
        "  print(\"Month have  days 31 days\")\r\n",
        "elif userInput==9:\r\n",
        "  print(\"Month have  days 30 days\")\r\n",
        "elif userInput==10:\r\n",
        "  print(\"Month have  days 31 days\")\r\n",
        "elif userInput==11:\r\n",
        "  print(\"Month have  days 30 days\")\r\n",
        "elif userInput==12:\r\n",
        "  print(\"Month have  days 31 days\")\r\n"
      ],
      "execution_count": 7,
      "outputs": [
        {
          "output_type": "stream",
          "text": [
            "Enter User Number \"1 to 12\" \n",
            "5\n",
            "May have  days 31 days\n"
          ],
          "name": "stdout"
        }
      ]
    },
    {
      "cell_type": "code",
      "execution_count": 7,
      "metadata": {
        "colab": {
          "base_uri": "https://localhost:8080/"
        },
        "id": "ciTsbswfa9o-",
        "outputId": "5b8a03d5-288e-4486-e4e1-f5ffdac8ce5f",
        "tags": []
      },
      "outputs": [
        {
          "output_type": "stream",
          "name": "stdout",
          "text": "Oct\n"
        }
      ],
      "source": [
        "# 12\n",
        "userInput=int(input(\"Enter User Number \\\"1 to 12\\\" \\n\"))\r\n",
        "if userInput==1:\r\n",
        "  print(\"Jan\")\r\n",
        "elif userInput==2:\r\n",
        "  print(\"Feb\")\r\n",
        "elif userInput==3:\r\n",
        "  print(\"Mar\")\r\n",
        "elif userInput==4:\r\n",
        "  print(\"Apr\")\r\n",
        "elif userInput==5:\r\n",
        "  print(\"May\")\r\n",
        "elif userInput==6:\r\n",
        "  print(\"Jun\")\r\n",
        "elif userInput==7:\r\n",
        "  print(\"Jul\")\r\n",
        "elif userInput==8:\r\n",
        "  print(\"Aug\")\r\n",
        "elif userInput==9:\r\n",
        "  print(\"Sep\")\r\n",
        "elif userInput==10:\r\n",
        "  print(\"Oct\")\r\n",
        "elif userInput==11:\r\n",
        "  print(\"Nov\")\r\n",
        "elif userInput==12:\r\n",
        "  print(\"Dec\")"
      ]
    },
    {
      "cell_type": "code",
      "execution_count": null,
      "metadata": {
        "tags": []
      },
      "outputs": [],
      "source": [
        "# 13\n",
        "userTemp=int(input(\"Enter Temprature \\n\"))\n",
        "if userTemp<0:\n",
        "    print(\"Freezing Weather\")\n",
        "elif userTemp>=0 and userTemp<10:\n",
        "    print(\"very cold weather\")\n",
        "elif userTemp>=10 and userTemp<20:\n",
        "    print(\"cold weather\")\n",
        "elif userTemp>=20 and userTemp<30:\n",
        "    print(\"Normal Temp\")\n",
        "elif userTemp>=30 and userTemp<40:\n",
        "    print(\"Hot weather\")\n",
        "elif userTemp>=40:\n",
        "    print(\"Its VERY HOT\")\n",
        "else:\n",
        "    print(\"stop\")"
      ]
    },
    {
      "cell_type": "code",
      "execution_count": null,
      "metadata": {
        "tags": []
      },
      "outputs": [],
      "source": [
        "#14\n",
        "\n",
        "print(\"Input lengths of the triangle side \")\n",
        "x = int(input(\"x: \"))\n",
        "y = int(input(\"y: \"))\n",
        "z = int(input(\"z: \"))\n",
        "\n",
        "if x == y == z:\n",
        "\tprint(\"Equilateral triangle\")\n",
        "elif x==y or y==z or z==x:\n",
        "\tprint(\"isosceles triangle\")\n",
        "else:\n",
        "\tprint(\"Scalene triangle\")\n",
        "    "
      ]
    },
    {
      "cell_type": "code",
      "execution_count": null,
      "metadata": {},
      "outputs": [],
      "source": [
        "#15\n",
        "a = int(input('Please Enter the First Angle of a Triangle: '))\n",
        "b = int(input('Please Enter the Second Angle of a Triangle: '))\n",
        "c = int(input('Please Enter the Third Angle of a Triangle: '))\n",
        "\n",
        "sum = a + b + c\n",
        "\n",
        "if sum == 180:\n",
        "    print(\"\\nThis is a Valid Triangle\")\n",
        "else:\n",
        "    print(\"\\nThis Triangle is not valid\")"
      ]
    },
    {
      "cell_type": "code",
      "execution_count": null,
      "metadata": {},
      "outputs": [],
      "source": [
        "#16\n",
        "ch = input(\"Please Enter Character : \")\n",
        "\n",
        "if((ch >= 'a' and ch <= 'z') or (ch >= 'A' and ch <= 'Z')): \n",
        "    print(\"The Given Character \", ch, \"is an Alphabet\") \n",
        "elif(ch >= '0' and ch <= '9'):\n",
        "    print(\"The Given Character \", ch, \"is a Digit\")\n",
        "else:\n",
        "    print(\"The Given Character \", ch, \"is a Special Character\")"
      ]
    },
    {
      "cell_type": "code",
      "execution_count": 2,
      "metadata": {
        "tags": []
      },
      "outputs": [
        {
          "output_type": "stream",
          "name": "stdout",
          "text": "x is a consonant.\n"
        }
      ],
      "source": [
        "#17\n",
        "Vowel=['a', 'e', 'i', 'o', 'u']\n",
        "letter = input(\"Input a letter of the alphabet: \")\n",
        "\n",
        "if letter in Vowel:\n",
        "\tprint(f\"{letter} is Vowel\")\n",
        "else:\n",
        "\tprint(f\"{letter} is a consonant.\") \n",
        "\t"
      ]
    },
    {
      "cell_type": "code",
      "execution_count": 3,
      "metadata": {
        "tags": []
      },
      "outputs": [
        {
          "output_type": "stream",
          "name": "stdout",
          "text": "You can booked your profit amount : 200\n"
        }
      ],
      "source": [
        "#18\n",
        "buying=int(input(\"Enter Buying Amout \"))\n",
        "selling=int(input(\"Enter Buying Amout \"))\n",
        "\n",
        "profit=selling-buying\n",
        "print(f\"You can booked your profit amount : {profit}\")"
      ]
    },
    {
      "cell_type": "code",
      "execution_count": 6,
      "metadata": {
        "tags": []
      },
      "outputs": [
        {
          "output_type": "stream",
          "name": "stdout",
          "text": "Four"
        }
      ],
      "source": [
        "#19\n",
        "\n",
        "digit=(input(\"Enter digit \"))\n",
        "\n",
        "if digit == '0': \n",
        "    print(\"Zero \", end = \" \") \n",
        "  \n",
        "elif digit == '1': \n",
        "    print(\"One \", end = \" \") \n",
        "\n",
        "elif digit == '2': \n",
        "    print(\"Two \", end = \" \") \n",
        "\n",
        "elif digit=='3': \n",
        "    print(\"Three\",end=\" \") \n",
        "    \n",
        "elif digit == '4': \n",
        "    print(\"Four \", end = \" \") \n",
        "    \n",
        "elif digit == '5': \n",
        "    print(\"Five \", end = \" \") \n",
        "     \n",
        "elif digit == '6': \n",
        "    print(\"Six \", end = \" \") \n",
        "     \n",
        "elif digit == '7': \n",
        "    print(\"Seven\", end = \" \")  \n",
        "    \n",
        "elif digit == '8': \n",
        "    print(\"Eight\", end = \" \") \n",
        "    \n",
        "elif digit == '9': \n",
        "    print(\"Nine \", end = \" \") "
      ]
    },
    {
      "cell_type": "code",
      "execution_count": 8,
      "metadata": {
        "tags": []
      },
      "outputs": [
        {
          "output_type": "stream",
          "name": "stdout",
          "text": "You have Choosen : Average\n"
        }
      ],
      "source": [
        "#20\n",
        "grade=input(\"Enter Grade \")\n",
        "if grade =='E' or grade=='e':\n",
        "    print(\"You have Choosen : Excellent\")\n",
        "elif grade =='V' or grade=='v':\n",
        "    print(\"You have Choosen : Very good\")\n",
        "elif grade =='G' or grade=='g':\n",
        "    print(\"You have Choosen : Good\")\n",
        "elif grade =='A' or grade=='a':\n",
        "    print(\"You have Choosen : Average\")\n",
        "elif grade =='F' or grade=='f':\n",
        "    print(\"You have Choosen : Fail\")\n",
        "else:\n",
        "    print(\"Please Enter correct Grade!!\")"
      ]
    },
    {
      "cell_type": "code",
      "execution_count": null,
      "metadata": {},
      "outputs": [],
      "source": [
        "##----Same as Problem 19-----------------"
      ]
    }
  ]
}